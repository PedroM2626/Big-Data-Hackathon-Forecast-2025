{
 "cells": [
  {
   "cell_type": "markdown",
   "metadata": {},
   "source": [
    "# Análise de Dados - Previsão de Vendas\n",
    "\n",
    "Este notebook contém a análise exploratória dos dados de vendas."
   ]
  },
  {
   "cell_type": "code",
   "execution_count": null,
   "metadata": {},
   "outputs": [],
   "source": [
    "import pandas as pd\n",
    "import numpy as np\n",
    "import matplotlib.pyplot as plt\n",
    "import seaborn as sns\n",
    "from pathlib import Path\n",
    "import pyarrow.parquet as pq\n",
    "\n",
    "# Configurações de exibição\n",
    "pd.set_option('display.max_columns', 100)\n",
    "pd.set_option('display.max_rows', 100)\n",
    "%matplotlib inline"
   ]
  },
  {
   "cell_type": "code",
   "execution_count": null,
   "metadata": {},
   "outputs": [],
   "source": [
    "# Carregar os dados\n",
    "data_dir = Path('../Dados')\n",
    "parquet_files = list(data_dir.glob('*.parquet'))\n",
    "\n",
    "# Carregar o primeiro arquivo como exemplo\n",
    "if parquet_files:\n",
    "    print(f'Encontrados {len(parquet_files)} arquivos Parquet')\n",
    "    for i, file in enumerate(parquet_files, 1):\n",
    "        print(f'{i}. {file.name} ({file.stat().st_size / (1024*1024):.2f} MB)')\n",
    "    \n",
    "    # Carregar o primeiro arquivo\n",
    "    df = pd.read_parquet(parquet_files[0])\n",
    "    print(f'\\nPrimeiro arquivo carregado: {parquet_files[0].name}')\n",
    "    print(f'Dimensões: {df.shape}')\n",
    "    print('\\nPrimeiras linhas:')\n",
    "    display(df.head())\n",
    "    \n",
    "    print('\\nInformações do DataFrame:')\n",
    "    df.info()\n",
    "    \n",
    "    print('\\nEstatísticas descritivas:')\n",
    "    display(df.describe(include='all').T)\n",
    "    \n",
    "    # Verificar valores ausentes\n",
    "    print('\\nValores ausentes por coluna:')\n",
    "    display(df.isnull().sum())"
   ]
  },
  {
   "cell_type": "markdown",
   "metadata": {},
   "source": [
    "## Análise Exploratória"
   ]
  },
  {
   "cell_type": "code",
   "execution_count": null,
   "metadata": {},
   "outputs": [],
   "source": [
    "# Adicione aqui a análise exploratória dos dados"
   ]
  }
 ],
 "metadata": {
  "kernelspec": {
   "display_name": "Python 3",
   "language": "python",
   "name": "python3"
  },
  "language_info": {
   "codemirror_mode": {
    "name": "ipython",
    "version": 3
   },
   "file_extension": ".py",
   "mimetype": "text/x-python",
   "name": "python",
   "nbconvert_exporter": "python",
   "pygments_lexer": "ipython3",
   "version": "3.8.0"
  }
 },
 "nbformat": 4,
 "nbformat_minor": 4
}
